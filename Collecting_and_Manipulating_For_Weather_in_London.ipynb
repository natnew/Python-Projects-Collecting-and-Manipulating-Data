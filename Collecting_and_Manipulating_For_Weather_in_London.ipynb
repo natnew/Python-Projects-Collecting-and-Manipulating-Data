{
  "nbformat": 4,
  "nbformat_minor": 0,
  "metadata": {
    "colab": {
      "name": "Collecting and Manipulating For Weather in London.ipynb",
      "provenance": [],
      "authorship_tag": "ABX9TyOEQEacmK541T/QWBTin9b0",
      "include_colab_link": true
    },
    "kernelspec": {
      "name": "python3",
      "display_name": "Python 3"
    },
    "language_info": {
      "name": "python"
    }
  },
  "cells": [
    {
      "cell_type": "markdown",
      "metadata": {
        "id": "view-in-github",
        "colab_type": "text"
      },
      "source": [
        "<a href=\"https://colab.research.google.com/github/natnew/Python-Projects-Collecting-and-Manipulating-Data/blob/main/Collecting_and_Manipulating_For_Weather_in_London.ipynb\" target=\"_parent\"><img src=\"https://colab.research.google.com/assets/colab-badge.svg\" alt=\"Open In Colab\"/></a>"
      ]
    },
    {
      "cell_type": "markdown",
      "source": [
        "## Introduction"
      ],
      "metadata": {
        "id": "oQgWNJBrDxS7"
      }
    },
    {
      "cell_type": "markdown",
      "source": [
        "Weather is tracked and analyzed every day to help airplanes have safe flights. Many weather conditions must be monitored to ensure that the likelihood of something negative happening to the aircraft is as low as possible. Can this same practice be aplied to weather data and the health sector?(Microsoft 2021)"
      ],
      "metadata": {
        "id": "NAb9tPrVDzam"
      }
    },
    {
      "cell_type": "markdown",
      "source": [
        "This project will look at:\n",
        "\n",
        "\n",
        "\n",
        "* Conditions (cloudy, partly cloudy, fair, rain, thunder, heavy storm)\n",
        "* Temperature\n",
        "* Humidity\n",
        "* Wind speed\n",
        "* Wind direction\n",
        "* Precipitation\n",
        "* Visibility\n",
        "* Sea level\n",
        "* Pressure\n",
        "* Most common Health Conditions\n",
        "\n",
        "We will compare weather data in London(Heathrow) across three different years to see if there are any noticeable trends. \n"
      ],
      "metadata": {
        "id": "Xj0ShWhpD9Z3"
      }
    },
    {
      "cell_type": "markdown",
      "source": [
        "## Questions"
      ],
      "metadata": {
        "id": "zTMq9x-QEZvg"
      }
    },
    {
      "cell_type": "markdown",
      "source": [
        "\"Has the weather changed in London over the past 70+ years?\"\n",
        "\n",
        "\"Will the weather in this area at this time cause any potential health issues for the locals?\""
      ],
      "metadata": {
        "id": "FDjKjDqqEdS0"
      }
    },
    {
      "cell_type": "markdown",
      "source": [
        "## Collect Data"
      ],
      "metadata": {
        "id": "AwulPUhbEnPV"
      }
    },
    {
      "cell_type": "markdown",
      "source": [
        "The data was collected from Met office website and contained a large amout of data from 1948 to 2021. For the purpose of this project, we will only compare data from 1948 and 2021 and 2000.\n",
        "\n",
        "You can find the data here: <br>\n",
        "https://www.wunderground.com/history/daily/EGLC/date/2021-6-1 <br>"
      ],
      "metadata": {
        "id": "NyIj34UjE0C8"
      }
    },
    {
      "cell_type": "markdown",
      "source": [
        "## Missing Data"
      ],
      "metadata": {
        "id": "18ZSQjItINkS"
      }
    },
    {
      "cell_type": "markdown",
      "source": [
        "The Excel files have extensive data about the weather in each year. However, as I start to explore this data, I might find a significant problem.There are instances where no data was captured.\n",
        "\n"
      ],
      "metadata": {
        "id": "WFjZqfOlIPiA"
      }
    },
    {
      "cell_type": "markdown",
      "source": [
        "# Import Libraries"
      ],
      "metadata": {
        "id": "B0NOuccOIe3Y"
      }
    },
    {
      "cell_type": "code",
      "execution_count": 1,
      "metadata": {
        "id": "NUlkhOAKDF6m"
      },
      "outputs": [],
      "source": [
        "# Pandas library is used for handling tabular data\n",
        "import pandas as pd\n",
        "\n",
        "# NumPy is used for handling numerical series operations (addition, multiplication, and ...)\n",
        "\n",
        "import numpy as np\n",
        "# Sklearn library contains all the machine learning packages we need to digest and extract patterns from the data\n",
        "from sklearn import linear_model, model_selection, metrics\n",
        "from sklearn.model_selection import train_test_split\n",
        "\n",
        "# Machine learning libraries used to build a decision tree\n",
        "from sklearn.tree import DecisionTreeClassifier\n",
        "from sklearn import tree\n",
        "\n",
        "# Sklearn's preprocessing library is used for processing and cleaning the data \n",
        "from sklearn import preprocessing\n",
        "\n",
        "# for visualizing the tree\n",
        "import pydotplus\n",
        "from IPython.display import Image"
      ]
    },
    {
      "cell_type": "markdown",
      "source": [
        "# Read Data into a variable"
      ],
      "metadata": {
        "id": "LoZrV_EAIq_F"
      }
    },
    {
      "cell_type": "code",
      "source": [
        "weather_data_1948 = pd.read_excel('WeatherDataCompleted1948.xlsx')\n",
        "weather_data_1948.head()"
      ],
      "metadata": {
        "colab": {
          "base_uri": "https://localhost:8080/",
          "height": 206
        },
        "id": "ThHLs_nnIt7d",
        "outputId": "ffe98edb-13bf-40c5-be94-b995091a39d4"
      },
      "execution_count": 3,
      "outputs": [
        {
          "output_type": "execute_result",
          "data": {
            "text/html": [
              "\n",
              "  <div id=\"df-6c83529d-77e4-4143-b7be-e6e1e048bd57\">\n",
              "    <div class=\"colab-df-container\">\n",
              "      <div>\n",
              "<style scoped>\n",
              "    .dataframe tbody tr th:only-of-type {\n",
              "        vertical-align: middle;\n",
              "    }\n",
              "\n",
              "    .dataframe tbody tr th {\n",
              "        vertical-align: top;\n",
              "    }\n",
              "\n",
              "    .dataframe thead th {\n",
              "        text-align: right;\n",
              "    }\n",
              "</style>\n",
              "<table border=\"1\" class=\"dataframe\">\n",
              "  <thead>\n",
              "    <tr style=\"text-align: right;\">\n",
              "      <th></th>\n",
              "      <th>Year</th>\n",
              "      <th>Month</th>\n",
              "      <th>Column1.4</th>\n",
              "      <th>Column1.5</th>\n",
              "      <th>Column1.6</th>\n",
              "      <th>Column1.7</th>\n",
              "      <th>Column1.8</th>\n",
              "      <th>Column1.9</th>\n",
              "      <th>Column1.10</th>\n",
              "      <th>Column2</th>\n",
              "      <th>Column3</th>\n",
              "    </tr>\n",
              "  </thead>\n",
              "  <tbody>\n",
              "    <tr>\n",
              "      <th>0</th>\n",
              "      <td>1948</td>\n",
              "      <td>1</td>\n",
              "      <td>8.0</td>\n",
              "      <td>9</td>\n",
              "      <td>3.0</td>\n",
              "      <td>3    ---</td>\n",
              "      <td>85.0</td>\n",
              "      <td>0    ---</td>\n",
              "      <td>NaN</td>\n",
              "      <td>NaN</td>\n",
              "      <td>NaN</td>\n",
              "    </tr>\n",
              "    <tr>\n",
              "      <th>1</th>\n",
              "      <td>1948</td>\n",
              "      <td>2</td>\n",
              "      <td>7.0</td>\n",
              "      <td>9</td>\n",
              "      <td>2.0</td>\n",
              "      <td>2    ---</td>\n",
              "      <td>26.0</td>\n",
              "      <td>0    ---</td>\n",
              "      <td>NaN</td>\n",
              "      <td>NaN</td>\n",
              "      <td>NaN</td>\n",
              "    </tr>\n",
              "    <tr>\n",
              "      <th>2</th>\n",
              "      <td>1948</td>\n",
              "      <td>3</td>\n",
              "      <td>14.0</td>\n",
              "      <td>2</td>\n",
              "      <td>3.0</td>\n",
              "      <td>8    ---</td>\n",
              "      <td>14.0</td>\n",
              "      <td>0    ---</td>\n",
              "      <td>NaN</td>\n",
              "      <td>NaN</td>\n",
              "      <td>NaN</td>\n",
              "    </tr>\n",
              "    <tr>\n",
              "      <th>3</th>\n",
              "      <td>1948</td>\n",
              "      <td>4</td>\n",
              "      <td>15.0</td>\n",
              "      <td>4</td>\n",
              "      <td>5.0</td>\n",
              "      <td>1    ---</td>\n",
              "      <td>35.0</td>\n",
              "      <td>0    ---</td>\n",
              "      <td>NaN</td>\n",
              "      <td>NaN</td>\n",
              "      <td>NaN</td>\n",
              "    </tr>\n",
              "    <tr>\n",
              "      <th>4</th>\n",
              "      <td>1948</td>\n",
              "      <td>5</td>\n",
              "      <td>18.0</td>\n",
              "      <td>1</td>\n",
              "      <td>6.0</td>\n",
              "      <td>9    ---</td>\n",
              "      <td>57.0</td>\n",
              "      <td>0    ---</td>\n",
              "      <td>NaN</td>\n",
              "      <td>NaN</td>\n",
              "      <td>NaN</td>\n",
              "    </tr>\n",
              "  </tbody>\n",
              "</table>\n",
              "</div>\n",
              "      <button class=\"colab-df-convert\" onclick=\"convertToInteractive('df-6c83529d-77e4-4143-b7be-e6e1e048bd57')\"\n",
              "              title=\"Convert this dataframe to an interactive table.\"\n",
              "              style=\"display:none;\">\n",
              "        \n",
              "  <svg xmlns=\"http://www.w3.org/2000/svg\" height=\"24px\"viewBox=\"0 0 24 24\"\n",
              "       width=\"24px\">\n",
              "    <path d=\"M0 0h24v24H0V0z\" fill=\"none\"/>\n",
              "    <path d=\"M18.56 5.44l.94 2.06.94-2.06 2.06-.94-2.06-.94-.94-2.06-.94 2.06-2.06.94zm-11 1L8.5 8.5l.94-2.06 2.06-.94-2.06-.94L8.5 2.5l-.94 2.06-2.06.94zm10 10l.94 2.06.94-2.06 2.06-.94-2.06-.94-.94-2.06-.94 2.06-2.06.94z\"/><path d=\"M17.41 7.96l-1.37-1.37c-.4-.4-.92-.59-1.43-.59-.52 0-1.04.2-1.43.59L10.3 9.45l-7.72 7.72c-.78.78-.78 2.05 0 2.83L4 21.41c.39.39.9.59 1.41.59.51 0 1.02-.2 1.41-.59l7.78-7.78 2.81-2.81c.8-.78.8-2.07 0-2.86zM5.41 20L4 18.59l7.72-7.72 1.47 1.35L5.41 20z\"/>\n",
              "  </svg>\n",
              "      </button>\n",
              "      \n",
              "  <style>\n",
              "    .colab-df-container {\n",
              "      display:flex;\n",
              "      flex-wrap:wrap;\n",
              "      gap: 12px;\n",
              "    }\n",
              "\n",
              "    .colab-df-convert {\n",
              "      background-color: #E8F0FE;\n",
              "      border: none;\n",
              "      border-radius: 50%;\n",
              "      cursor: pointer;\n",
              "      display: none;\n",
              "      fill: #1967D2;\n",
              "      height: 32px;\n",
              "      padding: 0 0 0 0;\n",
              "      width: 32px;\n",
              "    }\n",
              "\n",
              "    .colab-df-convert:hover {\n",
              "      background-color: #E2EBFA;\n",
              "      box-shadow: 0px 1px 2px rgba(60, 64, 67, 0.3), 0px 1px 3px 1px rgba(60, 64, 67, 0.15);\n",
              "      fill: #174EA6;\n",
              "    }\n",
              "\n",
              "    [theme=dark] .colab-df-convert {\n",
              "      background-color: #3B4455;\n",
              "      fill: #D2E3FC;\n",
              "    }\n",
              "\n",
              "    [theme=dark] .colab-df-convert:hover {\n",
              "      background-color: #434B5C;\n",
              "      box-shadow: 0px 1px 3px 1px rgba(0, 0, 0, 0.15);\n",
              "      filter: drop-shadow(0px 1px 2px rgba(0, 0, 0, 0.3));\n",
              "      fill: #FFFFFF;\n",
              "    }\n",
              "  </style>\n",
              "\n",
              "      <script>\n",
              "        const buttonEl =\n",
              "          document.querySelector('#df-6c83529d-77e4-4143-b7be-e6e1e048bd57 button.colab-df-convert');\n",
              "        buttonEl.style.display =\n",
              "          google.colab.kernel.accessAllowed ? 'block' : 'none';\n",
              "\n",
              "        async function convertToInteractive(key) {\n",
              "          const element = document.querySelector('#df-6c83529d-77e4-4143-b7be-e6e1e048bd57');\n",
              "          const dataTable =\n",
              "            await google.colab.kernel.invokeFunction('convertToInteractive',\n",
              "                                                     [key], {});\n",
              "          if (!dataTable) return;\n",
              "\n",
              "          const docLinkHtml = 'Like what you see? Visit the ' +\n",
              "            '<a target=\"_blank\" href=https://colab.research.google.com/notebooks/data_table.ipynb>data table notebook</a>'\n",
              "            + ' to learn more about interactive tables.';\n",
              "          element.innerHTML = '';\n",
              "          dataTable['output_type'] = 'display_data';\n",
              "          await google.colab.output.renderOutput(dataTable, element);\n",
              "          const docLink = document.createElement('div');\n",
              "          docLink.innerHTML = docLinkHtml;\n",
              "          element.appendChild(docLink);\n",
              "        }\n",
              "      </script>\n",
              "    </div>\n",
              "  </div>\n",
              "  "
            ],
            "text/plain": [
              "   Year  Month  Column1.4 Column1.5  ...  Column1.9 Column1.10  Column2 Column3\n",
              "0  1948      1        8.0    9       ...   0    ---        NaN      NaN     NaN\n",
              "1  1948      2        7.0    9       ...   0    ---        NaN      NaN     NaN\n",
              "2  1948      3       14.0    2       ...   0    ---        NaN      NaN     NaN\n",
              "3  1948      4       15.0    4       ...   0    ---        NaN      NaN     NaN\n",
              "4  1948      5       18.0    1       ...   0    ---        NaN      NaN     NaN\n",
              "\n",
              "[5 rows x 11 columns]"
            ]
          },
          "metadata": {},
          "execution_count": 3
        }
      ]
    },
    {
      "cell_type": "markdown",
      "source": [
        "As you can see from the data, we have some redundant columns whiich need to be removed. They ended up in the data via the data collection process. This will be discussed later. "
      ],
      "metadata": {
        "id": "pzpknrCnpt_9"
      }
    },
    {
      "cell_type": "markdown",
      "source": [
        "# Explore Data"
      ],
      "metadata": {
        "id": "J_PYe24ZKVh9"
      }
    },
    {
      "cell_type": "code",
      "source": [
        "weather_data_1948.columns"
      ],
      "metadata": {
        "colab": {
          "base_uri": "https://localhost:8080/"
        },
        "id": "7ZcfWxkvKYJR",
        "outputId": "c052bf61-970c-4a0d-e685-295644de2f10"
      },
      "execution_count": 4,
      "outputs": [
        {
          "output_type": "execute_result",
          "data": {
            "text/plain": [
              "Index(['Year', 'Month', 'Column1.4', 'Column1.5', 'Column1.6', 'Column1.7',\n",
              "       'Column1.8', 'Column1.9', 'Column1.10', 'Column2', 'Column3'],\n",
              "      dtype='object')"
            ]
          },
          "metadata": {},
          "execution_count": 4
        }
      ]
    },
    {
      "cell_type": "markdown",
      "source": [
        "# Data Cleaning"
      ],
      "metadata": {
        "id": "Rfe01bbfKqN3"
      }
    },
    {
      "cell_type": "code",
      "source": [
        "weather_data_1948.info()"
      ],
      "metadata": {
        "colab": {
          "base_uri": "https://localhost:8080/"
        },
        "id": "_ZVvbYa9KtLp",
        "outputId": "4fcaacbb-ac5e-4a77-e841-22f0e43844b4"
      },
      "execution_count": 5,
      "outputs": [
        {
          "output_type": "stream",
          "name": "stdout",
          "text": [
            "<class 'pandas.core.frame.DataFrame'>\n",
            "RangeIndex: 887 entries, 0 to 886\n",
            "Data columns (total 11 columns):\n",
            " #   Column      Non-Null Count  Dtype  \n",
            "---  ------      --------------  -----  \n",
            " 0   Year        887 non-null    int64  \n",
            " 1   Month       887 non-null    int64  \n",
            " 2   Column1.4   887 non-null    float64\n",
            " 3   Column1.5   887 non-null    object \n",
            " 4   Column1.6   887 non-null    float64\n",
            " 5   Column1.7   887 non-null    object \n",
            " 6   Column1.8   887 non-null    float64\n",
            " 7   Column1.9   887 non-null    object \n",
            " 8   Column1.10  875 non-null    object \n",
            " 9   Column2     0 non-null      float64\n",
            " 10  Column3     0 non-null      float64\n",
            "dtypes: float64(5), int64(2), object(4)\n",
            "memory usage: 76.4+ KB\n"
          ]
        }
      ]
    },
    {
      "cell_type": "markdown",
      "source": [
        "Observation: <br>\n",
        "* Column2 and Column3 have no data. \n",
        "* All the other columns appear to have 887 non-null values. This is not entirely correct because we know that each column has 12 values."
      ],
      "metadata": {
        "id": "x_ZgPl14K1Cw"
      }
    },
    {
      "cell_type": "markdown",
      "source": [
        "Ways that data will be cleaned: <br>\n",
        "* For missing information, mark it as unknown.\n",
        "* For missing condition data, assume it was a typical day and use fair.\n",
        "* For any other data, use a value of 0."
      ],
      "metadata": {
        "id": "Q77_NxskLLMf"
      }
    },
    {
      "cell_type": "code",
      "source": [
        "## To handle missing values, we will fill the missing values with appropriate values - But we do not need to do this for this dataset at the moment.\n",
        "#weather_data_1948['ColumnName'].fillna('N',inplace=True)\n",
        "#weather_data_1948['ColumnName'].fillna('Uncrewed',inplace=True)\n",
        "#weather_data_1948['ColumnName'].fillna('unknown',inplace=True)\n",
        "#weather_data_1948['ColumnName'].fillna('Fair',inplace=True)\n",
        "#weather_data_1948.fillna(0,inplace=True)\n",
        "#weather_data_1948.head()"
      ],
      "metadata": {
        "id": "z4J5AINBLnve"
      },
      "execution_count": 6,
      "outputs": []
    },
    {
      "cell_type": "code",
      "source": [
        "weather_data_1948.info()"
      ],
      "metadata": {
        "colab": {
          "base_uri": "https://localhost:8080/"
        },
        "id": "h1etayRrL2JA",
        "outputId": "191debf9-a226-431b-c880-022ce88653a5"
      },
      "execution_count": 7,
      "outputs": [
        {
          "output_type": "stream",
          "name": "stdout",
          "text": [
            "<class 'pandas.core.frame.DataFrame'>\n",
            "RangeIndex: 887 entries, 0 to 886\n",
            "Data columns (total 11 columns):\n",
            " #   Column      Non-Null Count  Dtype  \n",
            "---  ------      --------------  -----  \n",
            " 0   Year        887 non-null    int64  \n",
            " 1   Month       887 non-null    int64  \n",
            " 2   Column1.4   887 non-null    float64\n",
            " 3   Column1.5   887 non-null    object \n",
            " 4   Column1.6   887 non-null    float64\n",
            " 5   Column1.7   887 non-null    object \n",
            " 6   Column1.8   887 non-null    float64\n",
            " 7   Column1.9   887 non-null    object \n",
            " 8   Column1.10  875 non-null    object \n",
            " 9   Column2     0 non-null      float64\n",
            " 10  Column3     0 non-null      float64\n",
            "dtypes: float64(5), int64(2), object(4)\n",
            "memory usage: 76.4+ KB\n"
          ]
        }
      ]
    },
    {
      "cell_type": "markdown",
      "source": [
        "Observation: We now have a clearer datset to work with. "
      ],
      "metadata": {
        "id": "pSG4sguVMAF5"
      }
    },
    {
      "cell_type": "markdown",
      "source": [
        "# Data Manipulation"
      ],
      "metadata": {
        "id": "fkP91DRfL52L"
      }
    },
    {
      "cell_type": "code",
      "source": [
        "## As part of the data cleaning process, we have to convert text data to numerical because computers understand only numbers - \n",
        "## We do not have any text values in this dataset so we can skip this part\n",
        "#label_encoder = preprocessing.LabelEncoder()\n",
        "\n",
        "# Three columns have categorical text info, and we convert them to numbers\n",
        "#weather_data_1948['ColumnName'] = label_encoder.fit_transform(launch_data['ColumnName'])\n",
        "#weather_data_1948['ColumnName'] = label_encoder.fit_transform(launch_data['ColumnName'])\n",
        "#weather_data_1948['ColumnName'] = label_encoder.fit_transform(launch_data['ColumnName'])"
      ],
      "metadata": {
        "id": "wbafDXB9L8Pd"
      },
      "execution_count": 8,
      "outputs": []
    },
    {
      "cell_type": "code",
      "source": [
        "weather_data_1948.head()"
      ],
      "metadata": {
        "colab": {
          "base_uri": "https://localhost:8080/",
          "height": 206
        },
        "id": "iMQs4zQ0MGXX",
        "outputId": "aa9af32a-f7e9-41a4-8046-c487713f1c7a"
      },
      "execution_count": 9,
      "outputs": [
        {
          "output_type": "execute_result",
          "data": {
            "text/html": [
              "\n",
              "  <div id=\"df-bb218c8f-92e3-418c-915e-1e0cc6f72a35\">\n",
              "    <div class=\"colab-df-container\">\n",
              "      <div>\n",
              "<style scoped>\n",
              "    .dataframe tbody tr th:only-of-type {\n",
              "        vertical-align: middle;\n",
              "    }\n",
              "\n",
              "    .dataframe tbody tr th {\n",
              "        vertical-align: top;\n",
              "    }\n",
              "\n",
              "    .dataframe thead th {\n",
              "        text-align: right;\n",
              "    }\n",
              "</style>\n",
              "<table border=\"1\" class=\"dataframe\">\n",
              "  <thead>\n",
              "    <tr style=\"text-align: right;\">\n",
              "      <th></th>\n",
              "      <th>Year</th>\n",
              "      <th>Month</th>\n",
              "      <th>Column1.4</th>\n",
              "      <th>Column1.5</th>\n",
              "      <th>Column1.6</th>\n",
              "      <th>Column1.7</th>\n",
              "      <th>Column1.8</th>\n",
              "      <th>Column1.9</th>\n",
              "      <th>Column1.10</th>\n",
              "      <th>Column2</th>\n",
              "      <th>Column3</th>\n",
              "    </tr>\n",
              "  </thead>\n",
              "  <tbody>\n",
              "    <tr>\n",
              "      <th>0</th>\n",
              "      <td>1948</td>\n",
              "      <td>1</td>\n",
              "      <td>8.0</td>\n",
              "      <td>9</td>\n",
              "      <td>3.0</td>\n",
              "      <td>3    ---</td>\n",
              "      <td>85.0</td>\n",
              "      <td>0    ---</td>\n",
              "      <td>NaN</td>\n",
              "      <td>NaN</td>\n",
              "      <td>NaN</td>\n",
              "    </tr>\n",
              "    <tr>\n",
              "      <th>1</th>\n",
              "      <td>1948</td>\n",
              "      <td>2</td>\n",
              "      <td>7.0</td>\n",
              "      <td>9</td>\n",
              "      <td>2.0</td>\n",
              "      <td>2    ---</td>\n",
              "      <td>26.0</td>\n",
              "      <td>0    ---</td>\n",
              "      <td>NaN</td>\n",
              "      <td>NaN</td>\n",
              "      <td>NaN</td>\n",
              "    </tr>\n",
              "    <tr>\n",
              "      <th>2</th>\n",
              "      <td>1948</td>\n",
              "      <td>3</td>\n",
              "      <td>14.0</td>\n",
              "      <td>2</td>\n",
              "      <td>3.0</td>\n",
              "      <td>8    ---</td>\n",
              "      <td>14.0</td>\n",
              "      <td>0    ---</td>\n",
              "      <td>NaN</td>\n",
              "      <td>NaN</td>\n",
              "      <td>NaN</td>\n",
              "    </tr>\n",
              "    <tr>\n",
              "      <th>3</th>\n",
              "      <td>1948</td>\n",
              "      <td>4</td>\n",
              "      <td>15.0</td>\n",
              "      <td>4</td>\n",
              "      <td>5.0</td>\n",
              "      <td>1    ---</td>\n",
              "      <td>35.0</td>\n",
              "      <td>0    ---</td>\n",
              "      <td>NaN</td>\n",
              "      <td>NaN</td>\n",
              "      <td>NaN</td>\n",
              "    </tr>\n",
              "    <tr>\n",
              "      <th>4</th>\n",
              "      <td>1948</td>\n",
              "      <td>5</td>\n",
              "      <td>18.0</td>\n",
              "      <td>1</td>\n",
              "      <td>6.0</td>\n",
              "      <td>9    ---</td>\n",
              "      <td>57.0</td>\n",
              "      <td>0    ---</td>\n",
              "      <td>NaN</td>\n",
              "      <td>NaN</td>\n",
              "      <td>NaN</td>\n",
              "    </tr>\n",
              "  </tbody>\n",
              "</table>\n",
              "</div>\n",
              "      <button class=\"colab-df-convert\" onclick=\"convertToInteractive('df-bb218c8f-92e3-418c-915e-1e0cc6f72a35')\"\n",
              "              title=\"Convert this dataframe to an interactive table.\"\n",
              "              style=\"display:none;\">\n",
              "        \n",
              "  <svg xmlns=\"http://www.w3.org/2000/svg\" height=\"24px\"viewBox=\"0 0 24 24\"\n",
              "       width=\"24px\">\n",
              "    <path d=\"M0 0h24v24H0V0z\" fill=\"none\"/>\n",
              "    <path d=\"M18.56 5.44l.94 2.06.94-2.06 2.06-.94-2.06-.94-.94-2.06-.94 2.06-2.06.94zm-11 1L8.5 8.5l.94-2.06 2.06-.94-2.06-.94L8.5 2.5l-.94 2.06-2.06.94zm10 10l.94 2.06.94-2.06 2.06-.94-2.06-.94-.94-2.06-.94 2.06-2.06.94z\"/><path d=\"M17.41 7.96l-1.37-1.37c-.4-.4-.92-.59-1.43-.59-.52 0-1.04.2-1.43.59L10.3 9.45l-7.72 7.72c-.78.78-.78 2.05 0 2.83L4 21.41c.39.39.9.59 1.41.59.51 0 1.02-.2 1.41-.59l7.78-7.78 2.81-2.81c.8-.78.8-2.07 0-2.86zM5.41 20L4 18.59l7.72-7.72 1.47 1.35L5.41 20z\"/>\n",
              "  </svg>\n",
              "      </button>\n",
              "      \n",
              "  <style>\n",
              "    .colab-df-container {\n",
              "      display:flex;\n",
              "      flex-wrap:wrap;\n",
              "      gap: 12px;\n",
              "    }\n",
              "\n",
              "    .colab-df-convert {\n",
              "      background-color: #E8F0FE;\n",
              "      border: none;\n",
              "      border-radius: 50%;\n",
              "      cursor: pointer;\n",
              "      display: none;\n",
              "      fill: #1967D2;\n",
              "      height: 32px;\n",
              "      padding: 0 0 0 0;\n",
              "      width: 32px;\n",
              "    }\n",
              "\n",
              "    .colab-df-convert:hover {\n",
              "      background-color: #E2EBFA;\n",
              "      box-shadow: 0px 1px 2px rgba(60, 64, 67, 0.3), 0px 1px 3px 1px rgba(60, 64, 67, 0.15);\n",
              "      fill: #174EA6;\n",
              "    }\n",
              "\n",
              "    [theme=dark] .colab-df-convert {\n",
              "      background-color: #3B4455;\n",
              "      fill: #D2E3FC;\n",
              "    }\n",
              "\n",
              "    [theme=dark] .colab-df-convert:hover {\n",
              "      background-color: #434B5C;\n",
              "      box-shadow: 0px 1px 3px 1px rgba(0, 0, 0, 0.15);\n",
              "      filter: drop-shadow(0px 1px 2px rgba(0, 0, 0, 0.3));\n",
              "      fill: #FFFFFF;\n",
              "    }\n",
              "  </style>\n",
              "\n",
              "      <script>\n",
              "        const buttonEl =\n",
              "          document.querySelector('#df-bb218c8f-92e3-418c-915e-1e0cc6f72a35 button.colab-df-convert');\n",
              "        buttonEl.style.display =\n",
              "          google.colab.kernel.accessAllowed ? 'block' : 'none';\n",
              "\n",
              "        async function convertToInteractive(key) {\n",
              "          const element = document.querySelector('#df-bb218c8f-92e3-418c-915e-1e0cc6f72a35');\n",
              "          const dataTable =\n",
              "            await google.colab.kernel.invokeFunction('convertToInteractive',\n",
              "                                                     [key], {});\n",
              "          if (!dataTable) return;\n",
              "\n",
              "          const docLinkHtml = 'Like what you see? Visit the ' +\n",
              "            '<a target=\"_blank\" href=https://colab.research.google.com/notebooks/data_table.ipynb>data table notebook</a>'\n",
              "            + ' to learn more about interactive tables.';\n",
              "          element.innerHTML = '';\n",
              "          dataTable['output_type'] = 'display_data';\n",
              "          await google.colab.output.renderOutput(dataTable, element);\n",
              "          const docLink = document.createElement('div');\n",
              "          docLink.innerHTML = docLinkHtml;\n",
              "          element.appendChild(docLink);\n",
              "        }\n",
              "      </script>\n",
              "    </div>\n",
              "  </div>\n",
              "  "
            ],
            "text/plain": [
              "   Year  Month  Column1.4 Column1.5  ...  Column1.9 Column1.10  Column2 Column3\n",
              "0  1948      1        8.0    9       ...   0    ---        NaN      NaN     NaN\n",
              "1  1948      2        7.0    9       ...   0    ---        NaN      NaN     NaN\n",
              "2  1948      3       14.0    2       ...   0    ---        NaN      NaN     NaN\n",
              "3  1948      4       15.0    4       ...   0    ---        NaN      NaN     NaN\n",
              "4  1948      5       18.0    1       ...   0    ---        NaN      NaN     NaN\n",
              "\n",
              "[5 rows x 11 columns]"
            ]
          },
          "metadata": {},
          "execution_count": 9
        }
      ]
    },
    {
      "cell_type": "markdown",
      "source": [
        "Observation: We have data in a format that can be explored, manipulated and presented."
      ],
      "metadata": {
        "id": "7oJ9pnLwMYGA"
      }
    },
    {
      "cell_type": "code",
      "source": [
        ""
      ],
      "metadata": {
        "id": "848XkZCF0EkG"
      },
      "execution_count": null,
      "outputs": []
    },
    {
      "cell_type": "markdown",
      "source": [
        "# Further Exploration"
      ],
      "metadata": {
        "id": "_ZaG3kuwNVC-"
      }
    },
    {
      "cell_type": "markdown",
      "source": [
        "Ways that the data exploration journay can be extended include:<br>\n",
        "* Explore the data further: Look up articles and reports on weather data/climate change and the impacts on health.\n",
        "* Explore the missing weather data: Beyond individual days, were there seasons that that showed a dramatic change in values? What kind of weather profile do those seasons tend to have?\n",
        "* Explore other data manipulations: Could we have used better values to fill in missing data?\n",
        "* Evaluate similar problems: Are there similar problems that you can use to help fill in this data? For example, are airplane delays because of weather in the area also an indicator?"
      ],
      "metadata": {
        "id": "7i-RhPNHNXhp"
      }
    },
    {
      "cell_type": "markdown",
      "source": [
        "#Next Step"
      ],
      "metadata": {
        "id": "ZOHF8sO9w4as"
      }
    },
    {
      "cell_type": "markdown",
      "source": [
        "The next step of the process is to do the same for another set of datasets for the year 2021 and 2000.\n",
        "\n",
        "Tip: Refer to the notebook about rocket launches for assistance."
      ],
      "metadata": {
        "id": "Kh3ERYU2w5yC"
      }
    }
  ]
}